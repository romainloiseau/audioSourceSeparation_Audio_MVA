{
 "cells": [
  {
   "cell_type": "code",
   "execution_count": null,
   "metadata": {},
   "outputs": [],
   "source": [
    "%load_ext autoreload\n",
    "%autoreload 2\n",
    "\n",
    "import sys\n",
    "sys.path.append(\"code\")\n",
    "\n",
    "import numpy as np\n",
    "import matplotlib.pyplot as plt\n",
    "import scipy.io.wavfile as wave\n",
    "from tqdm import tqdm_notebook"
   ]
  },
  {
   "cell_type": "code",
   "execution_count": null,
   "metadata": {},
   "outputs": [],
   "source": [
    "rate, x = wave.read(\"data/mix.wav\")\n",
    "T, I = x.shape\n",
    "J = 3\n",
    "\n",
    "print(\"rate = {}\".format(rate))\n",
    "print(\"T = {}\".format(T))\n",
    "print(\"I = {}\".format(I))\n",
    "print(\"J = {}\".format(J))"
   ]
  },
  {
   "cell_type": "code",
   "execution_count": null,
   "metadata": {},
   "outputs": [],
   "source": [
    "import scipy.signal as sig\n",
    "freqs, _, x_four = sig.stft(x.transpose(), fs = rate, nperseg = 1000)\n",
    "F = len(freqs)\n",
    "N = x_four.shape[-1]\n",
    "print(x_four.shape)\n",
    "print(\"F = {}\".format(F))\n",
    "print(\"N = {}\".format(N))\n",
    "\n",
    "def plot_ft(Z):\n",
    "    \n",
    "    plt.figure(figsize = (15, 5))\n",
    "    eps = 1e-10\n",
    "    for i in range(Z.shape[0]):\n",
    "        plt.subplot(101 + Z.shape[0] * 10 + i)\n",
    "\n",
    "        logmag = np.flipud(np.log(eps + np.real(Z[i])**2))\n",
    "        plt.imshow(logmag, extent=[0, logmag.shape[-1], 0, 512], aspect = 'auto', cmap = plt.cm.gist_heat)\n",
    "        plt.title(\"MDCT lib Spectrogram for channel {}\".format(i))\n",
    "        plt.ylabel(\"Frequencies\")\n",
    "        plt.xlabel(\"Time\")\n",
    "    plt.show()\n",
    "    \n",
    "plot_ft(x_four)"
   ]
  },
  {
   "cell_type": "code",
   "execution_count": null,
   "metadata": {},
   "outputs": [],
   "source": [
    "def compute_Rxx(x1, x2 = None):\n",
    "    if x2 == None:\n",
    "        x2 = x1\n",
    "    return x1.dot(x2.getH()) / x1.shape[-1]\n",
    "\n",
    "compute_Rxx(np.matrix(x_four[0])).shape"
   ]
  },
  {
   "cell_type": "markdown",
   "metadata": {},
   "source": [
    "# Parameters of the model"
   ]
  },
  {
   "cell_type": "code",
   "execution_count": null,
   "metadata": {},
   "outputs": [],
   "source": [
    "K = J + 1\n",
    "\n",
    "A = np.random.random((I, J, F))\n",
    "W = np.random.random((F, K))\n",
    "H = np.random.random((K, N))\n",
    "Sb = np.random.random((F, I, I))"
   ]
  },
  {
   "cell_type": "code",
   "execution_count": null,
   "metadata": {
    "scrolled": true
   },
   "outputs": [],
   "source": [
    "def compute_Sc(W, H):\n",
    "    F, K = W.shape\n",
    "    _, N = H.shape\n",
    "    \n",
    "    W = np.array([W for n in range(N)]).transpose(1, 0, 2)\n",
    "    H = np.array([H for f in range(F)]).transpose(0, 2, 1)\n",
    "    return W * H\n",
    "    \n",
    "Sc = compute_Sc(W, H)\n",
    "Kcal = [0, 2, 3]"
   ]
  },
  {
   "cell_type": "code",
   "execution_count": null,
   "metadata": {},
   "outputs": [],
   "source": [
    "def compute_Arond(A, K, Kcal):\n",
    "    I, _, F = A.shape\n",
    "    Arond = np.zeros((I, K, F))\n",
    "    for j, k in enumerate(Kcal):\n",
    "        Arond[:, k] = A[:, j]\n",
    "    return Arond\n",
    "\n",
    "def compute_E_step(x_four, A, Sc, Sb, Kcal):\n",
    "    F, N, K = Sc.shape\n",
    "    I, J, _ = A.shape\n",
    "    \n",
    "    Ss = Sc[:, :, Kcal]\n",
    "    Arond = compute_Arond(A, K, Kcal)\n",
    "    \n",
    "    Gs = np.empty((F, N, J, I))\n",
    "    Gc = np.empty((F, N, K, I))\n",
    "    s = np.empty((F, N, J), dtype=complex)\n",
    "    c = np.empty((F, N, K), dtype=complex)\n",
    "    \n",
    "    Rxs = np.empty((F, I, J), dtype=complex)\n",
    "    Rss = np.empty((F, J, J), dtype=complex)\n",
    "    \n",
    "    for f in tqdm_notebook(range(F)):\n",
    "        for n in range(N):\n",
    "            a = np.matrix(A[:, :, f])\n",
    "            arond = np.matrix(Arond[:, :, f])\n",
    "            ss = np.diag(Ss[f, n])\n",
    "            sc = np.diag(Sc[f, n])\n",
    "            \n",
    "            sx = a.dot(ss).dot(a.getH()) + Sb[f]\n",
    "            invsx = np.linalg.inv(sx)\n",
    "            \n",
    "            Gs[f, n] = ss.dot(a.getH()).dot(invsx)\n",
    "            Gc[f, n] = sc.dot(arond.getH()).dot(invsx)\n",
    "            \n",
    "            s[f, n] = Gs[f, n].dot(x_four[:, f, n])\n",
    "            c[f, n] = Gc[f, n].dot(x_four[:, f, n])\n",
    "            \n",
    "            Rxs[f] += np.matrix(x_four[:, f, n]).transpose().dot(np.matrix(s[f, n]).getH().transpose()) / N\n",
    "            \n",
    "            Rss[f] += np.matrix(s[f, n]).transpose().dot(np.matrix(s[f, n]).getH().transpose()) / N\n",
    "            Rss[f] += ss\n",
    "            Rss[f] -= Gs[f, n].dot(a).dot(ss)\n",
    "            \n",
    "            \n",
    "    return Rxs, Rss\n",
    "    \n",
    "Rxs, Rss = compute_E_step(x_four, A, Sc, Sb, Kcal)"
   ]
  }
 ],
 "metadata": {
  "kernelspec": {
   "display_name": "Python 3",
   "language": "python",
   "name": "python3"
  },
  "language_info": {
   "codemirror_mode": {
    "name": "ipython",
    "version": 3
   },
   "file_extension": ".py",
   "mimetype": "text/x-python",
   "name": "python",
   "nbconvert_exporter": "python",
   "pygments_lexer": "ipython3",
   "version": "3.6.7"
  }
 },
 "nbformat": 4,
 "nbformat_minor": 2
}
