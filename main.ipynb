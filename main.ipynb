{
 "cells": [
  {
   "cell_type": "code",
   "execution_count": null,
   "metadata": {},
   "outputs": [],
   "source": [
    "%load_ext autoreload\n",
    "%autoreload 2\n",
    "\n",
    "import sys\n",
    "sys.path.append(\"code\")\n",
    "\n",
    "import numpy as np\n",
    "import matplotlib.pyplot as plt\n",
    "import scipy.signal as sig\n",
    "import scipy.io.wavfile as wave\n",
    "import IPython\n",
    "import sklearn.decomposition as skd\n",
    "\n",
    "import utils\n",
    "import em"
   ]
  },
  {
   "cell_type": "code",
   "execution_count": null,
   "metadata": {},
   "outputs": [],
   "source": [
    "rate, _, mix = utils.readwav('data/mix.wav')\n",
    "maxi = np.max(mix)\n",
    "mix = mix / maxi\n",
    "\n",
    "T, I = mix.shape\n",
    "J = 3\n",
    "print(\"rate = {}\".format(rate))\n",
    "print(\"T = {}\".format(T))\n",
    "print(\"I = {}\".format(I))\n",
    "print(\"J = {}\".format(J))\n",
    "IPython.display.Audio(mix.transpose(), rate = rate)"
   ]
  },
  {
   "cell_type": "code",
   "execution_count": null,
   "metadata": {},
   "outputs": [],
   "source": [
    "def create_inputs(maxi):\n",
    "    # load source mono wave files\n",
    "    rate1, _, src1 = utils.readwav(\"data/src1.wav\")\n",
    "    rate2, _, src2 = utils.readwav(\"data/src2.wav\")\n",
    "    rate3, _, src3 = utils.readwav(\"data/src3.wav\")\n",
    "    src1 = src1 / maxi\n",
    "    src2 = src2 / maxi\n",
    "    src3 = src3 / maxi\n",
    "    # create noised inputs by modifying source samples\n",
    "    coef_mix = .05\n",
    "    coef_noise = .01\n",
    "    src1_ = ((1 - 2 * coef_mix) * src1 + coef_mix * src2 + coef_mix * src3) + np.random.normal(0, coef_noise, src1.shape)\n",
    "    src2_ = (coef_mix * src1 + (1 - 2 * coef_mix) * src2 + coef_mix * src3) + np.random.normal(0, coef_noise, src1.shape)\n",
    "    src3_ = (coef_mix * src1 + coef_mix * src2 + (1 - 2 * coef_mix) * src3) + np.random.normal(0, coef_noise, src1.shape)\n",
    "    return np.concatenate(tuple([src1_, src2_, src3_]), axis=1).transpose()\n",
    "\n",
    "sources = create_inputs(maxi)\n",
    "J = sources.shape[0]\n",
    "# IPython.display.Audio(in1.transpose() * maxi, rate = rate)\n",
    "# IPython.display.Audio(in2.transpose() * maxi, rate = rate)\n",
    "# IPython.display.Audio(in3.transpose() * maxi, rate = rate)"
   ]
  },
  {
   "cell_type": "code",
   "execution_count": null,
   "metadata": {},
   "outputs": [],
   "source": [
    "freqs, _, S = sig.stft(sources, fs=rate, nperseg=1000)\n",
    "_, _, X = sig.stft(mix.transpose(), fs=rate, nperseg=1000)\n",
    "\n",
    "F = len(freqs)\n",
    "N = S[0].shape[-1]\n",
    "print(\"F = {}\".format(F))\n",
    "print(\"N = {}\".format(N))\n",
    "\n",
    "utils.plot_stft(freqs, S)\n",
    "S = S.transpose(1, 2, 0)\n",
    "X = X.transpose(1, 2, 0)\n"
   ]
  },
  {
   "cell_type": "code",
   "execution_count": null,
   "metadata": {},
   "outputs": [],
   "source": [
    "def resynthesize_src(S, maxi):\n",
    "    times, output = sig.istft(S.transpose((2, 0, 1)))\n",
    "    return output * maxi\n",
    "\n",
    "output = resynthesize_src(S, maxi)\n",
    "IPython.display.Audio(output[0].transpose() * maxi, rate = rate)"
   ]
  },
  {
   "cell_type": "code",
   "execution_count": null,
   "metadata": {},
   "outputs": [],
   "source": [
    "Kpart = [5, 6, 8]\n",
    "K = np.sum(Kpart)\n",
    "A, W, H, sigma_b, H = em.init_params(X, S, Kpart)\n",
    "print(W.shape, H.shape, A.shape, sigma_b.shape)"
   ]
  },
  {
   "cell_type": "markdown",
   "metadata": {},
   "source": [
    "# Parameters of the model"
   ]
  },
  {
   "cell_type": "code",
   "execution_count": null,
   "metadata": {},
   "outputs": [],
   "source": [
    "A = np.zeros((I, J, F), dtype=complex)\n",
    "W = np.zeros((F, K), dtype=complex)\n",
    "H = np.zeros((K, N), dtype=complex)\n",
    "Sb = np.zeros((F, I, I), dtype=complex)\n",
    "\n",
    "A += np.random.random(A.shape)\n",
    "W += np.random.random(W.shape)\n",
    "H += np.random.random(H.shape)\n",
    "Sb += np.random.random(Sb.shape)"
   ]
  },
  {
   "cell_type": "code",
   "execution_count": null,
   "metadata": {},
   "outputs": [],
   "source": [
    "input = np.zeros(())"
   ]
  },
  {
   "cell_type": "code",
   "execution_count": null,
   "metadata": {},
   "outputs": [],
   "source": [
    "Rxs, Rss, u = em.compute_E_step(x_four, A, W, H, Sb, Kcal)\n",
    "A, Sb, H, W = em.compute_M_step(Rxx, Rxs, Rss, u, H, W)"
   ]
  },
  {
   "cell_type": "code",
   "execution_count": null,
   "metadata": {},
   "outputs": [],
   "source": [
    "utils.plot_stft(np.array([W[:, i:i+1].dot(H[i:i+1, :]) for i in range(K)]))"
   ]
  },
  {
   "cell_type": "code",
   "execution_count": null,
   "metadata": {},
   "outputs": [],
   "source": []
  }
 ],
 "metadata": {
  "kernelspec": {
   "display_name": "Python 3",
   "language": "python",
   "name": "python3"
  },
  "language_info": {
   "codemirror_mode": {
    "name": "ipython",
    "version": 3
   },
   "file_extension": ".py",
   "mimetype": "text/x-python",
   "name": "python",
   "nbconvert_exporter": "python",
   "pygments_lexer": "ipython3",
   "version": "3.6.7"
  }
 },
 "nbformat": 4,
 "nbformat_minor": 2
}
